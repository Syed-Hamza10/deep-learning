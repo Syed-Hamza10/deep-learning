{
 "cells": [
  {
   "cell_type": "code",
   "execution_count": 4,
   "id": "3317a316-72ff-4f2e-824d-4ab0fc6f9fcd",
   "metadata": {},
   "outputs": [],
   "source": [
    "from sympy import diff, symbols"
   ]
  },
  {
   "cell_type": "code",
   "execution_count": 5,
   "id": "39bb3876-097d-4178-812f-916736ee10f5",
   "metadata": {},
   "outputs": [],
   "source": []
  },
  {
   "cell_type": "code",
   "execution_count": null,
   "id": "d23c11b9-d704-410c-a16a-ff4dec2bf4a2",
   "metadata": {},
   "outputs": [],
   "source": []
  },
  {
   "cell_type": "code",
   "execution_count": 10,
   "id": "7342e9e9-6ab7-40d1-9793-37d6b74f5fc6",
   "metadata": {},
   "outputs": [],
   "source": [
    "def gradient(cost, func, theta = 10):\n",
    "    x, y, z = symbols('x y z', real = True)\n",
    "    func = diff(func, x)\n",
    "    x = 2\n",
    "    for _ in range(10):\n",
    "        theta = theta - (0.1)*(func)\n",
    "        print(theta)"
   ]
  },
  {
   "cell_type": "code",
   "execution_count": 11,
   "id": "54468d59-40db-4eab-b016-d0192a62727d",
   "metadata": {},
   "outputs": [
    {
     "name": "stdout",
     "output_type": "stream",
     "text": [
      "10 - 0.2*x\n",
      "10 - 0.4*x\n",
      "10 - 0.6*x\n",
      "10 - 0.8*x\n",
      "10 - 1.0*x\n",
      "10 - 1.2*x\n",
      "10 - 1.4*x\n",
      "10 - 1.6*x\n",
      "10 - 1.8*x\n",
      "10 - 2.0*x\n"
     ]
    }
   ],
   "source": [
    "gradient(100, x**2)"
   ]
  },
  {
   "cell_type": "code",
   "execution_count": null,
   "id": "309825d5-5012-471b-b39a-35e14eb22e3b",
   "metadata": {},
   "outputs": [],
   "source": []
  }
 ],
 "metadata": {
  "kernelspec": {
   "display_name": "Python 3 (ipykernel)",
   "language": "python",
   "name": "python3"
  },
  "language_info": {
   "codemirror_mode": {
    "name": "ipython",
    "version": 3
   },
   "file_extension": ".py",
   "mimetype": "text/x-python",
   "name": "python",
   "nbconvert_exporter": "python",
   "pygments_lexer": "ipython3",
   "version": "3.12.4"
  }
 },
 "nbformat": 4,
 "nbformat_minor": 5
}
